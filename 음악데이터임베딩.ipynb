{
 "cells": [
  {
   "cell_type": "code",
   "execution_count": 0,
   "metadata": {
    "application/vnd.databricks.v1+cell": {
     "cellMetadata": {
      "byteLimit": 2048000,
      "rowLimit": 10000
     },
     "inputWidgets": {},
     "nuid": "bcc87e41-21e2-4514-a3c0-2e762501d4ab",
     "showTitle": false,
     "tableResultSettingsMap": {},
     "title": ""
    }
   },
   "outputs": [
    {
     "output_type": "stream",
     "name": "stderr",
     "output_type": "stream",
     "text": [
      "The cache for model files in Transformers v4.22.0 has been updated. Migrating your old cache. This is a one-time only operation. You can interrupt this and resume the migration later on by calling `transformers.utils.move_cache()`.\n"
     ]
    },
    {
     "output_type": "display_data",
     "data": {
      "application/vnd.jupyter.widget-view+json": {
       "model_id": "85db5c076264437e9408e39b638fab39",
       "version_major": 2,
       "version_minor": 0
      },
      "text/plain": [
       "0it [00:00, ?it/s]"
      ]
     },
     "metadata": {},
     "output_type": "display_data"
    },
    {
     "output_type": "stream",
     "name": "stderr",
     "output_type": "stream",
     "text": [
      "2025-05-29 05:25:05.092724: I external/local_xla/xla/tsl/cuda/cudart_stub.cc:32] Could not find cuda drivers on your machine, GPU will not be used.\n2025-05-29 05:25:05.098745: I external/local_xla/xla/tsl/cuda/cudart_stub.cc:32] Could not find cuda drivers on your machine, GPU will not be used.\n2025-05-29 05:25:05.115377: E external/local_xla/xla/stream_executor/cuda/cuda_fft.cc:485] Unable to register cuFFT factory: Attempting to register factory for plugin cuFFT when one has already been registered\n2025-05-29 05:25:05.141607: E external/local_xla/xla/stream_executor/cuda/cuda_dnn.cc:8454] Unable to register cuDNN factory: Attempting to register factory for plugin cuDNN when one has already been registered\n2025-05-29 05:25:05.149442: E external/local_xla/xla/stream_executor/cuda/cuda_blas.cc:1452] Unable to register cuBLAS factory: Attempting to register factory for plugin cuBLAS when one has already been registered\n2025-05-29 05:25:05.168870: I tensorflow/core/platform/cpu_feature_guard.cc:210] This TensorFlow binary is optimized to use available CPU instructions in performance-critical operations.\nTo enable the following instructions: AVX2 AVX512F FMA, in other operations, rebuild TensorFlow with the appropriate compiler flags.\n2025-05-29 05:25:07.377892: W tensorflow/compiler/tf2tensorrt/utils/py_utils.cc:38] TF-TRT Warning: Could not find TensorRT\n/databricks/python/lib/python3.12/site-packages/huggingface_hub/file_download.py:797: FutureWarning: `resume_download` is deprecated and will be removed in version 1.0.0. Downloads always resume when possible. If you want to force a new download, use `force_download=True`.\n  warnings.warn(\n"
     ]
    }
   ],
   "source": [
    "import pandas as pd\n",
    "from sentence_transformers import SentenceTransformer\n",
    "import torch\n",
    "\n",
    "# 모델 불러오기 (GPU 사용 시 \"cuda\"로 설정)\n",
    "model = SentenceTransformer(\"sentence-transformers/all-MiniLM-L6-v2\", device=\"cuda\" if torch.cuda.is_available() else \"cpu\")\n",
    "\n",
    "# CSV 불러오기\n",
    "df = pd.read_csv(\"genie_data.csv\").fillna(\"\")\n",
    "\n",
    "# 태그 문장 생성\n",
    "def row_to_tag_sentence(row):\n",
    "    return \" \".join([\n",
    "        \" \".join(eval(row[\"상황태그\"])) if row[\"상황태그\"] else \"\",\n",
    "        \" \".join(eval(row[\"감성태그\"])) if row[\"감성태그\"] else \"\",\n",
    "        \" \".join(eval(row[\"시간대태그\"])) if row[\"시간대태그\"] else \"\",\n",
    "        \" \".join(eval(row[\"스타일태그\"])) if row[\"스타일태그\"] else \"\",\n",
    "        \" \".join(eval(row[\"날씨태그\"])) if row[\"날씨태그\"] else \"\",\n",
    "        \" \".join(eval(row[\"계절태그\"])) if row[\"계절태그\"] else \"\",\n",
    "    ])\n",
    "\n",
    "df[\"tag_sentence\"] = df.apply(row_to_tag_sentence, axis=1)\n",
    "\n",
    "# 임베딩 (배치 처리)\n",
    "sentences = df[\"tag_sentence\"].tolist()\n",
    "embeddings = model.encode(sentences, batch_size=32, convert_to_tensor=True)\n",
    "df[\"embedding\"] = [e.cpu().numpy() for e in embeddings]\n",
    "\n",
    "# 저장 (pickle or parquet 추천)\n",
    "df.to_pickle(\"songs_with_embeddings.pkl\")\n"
   ]
  }
 ],
 "metadata": {
  "application/vnd.databricks.v1+notebook": {
   "computePreferences": null,
   "dashboards": [],
   "environmentMetadata": {
    "base_environment": "",
    "environment_version": "2"
   },
   "inputWidgetPreferences": null,
   "language": "python",
   "notebookMetadata": {
    "pythonIndentUnit": 4
   },
   "notebookName": "embedding",
   "widgets": {}
  },
  "language_info": {
   "name": "python"
  }
 },
 "nbformat": 4,
 "nbformat_minor": 0
}